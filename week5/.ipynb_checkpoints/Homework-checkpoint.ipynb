{
 "cells": [
  {
   "cell_type": "code",
   "execution_count": 1,
   "id": "fd00dbde",
   "metadata": {},
   "outputs": [],
   "source": [
    "# 参考文献\n",
    "\n",
    "# 線分の交差判定\n",
    "# https://qiita.com/wihan23/items/03efd7cd40dfec96a987\n",
    "\n",
    "# 焼きなましについて\n",
    "# https://shindannin.hatenadiary.com/entry/2021/03/06/115415"
   ]
  },
  {
   "cell_type": "code",
   "execution_count": 2,
   "id": "f6aed05c",
   "metadata": {},
   "outputs": [],
   "source": [
    "#!/usr/bin/env python3\n",
    "\n",
    "import sys\n",
    "import math\n",
    "import random\n",
    "import time\n",
    "import csv\n",
    "import copy\n"
   ]
  },
  {
   "cell_type": "code",
   "execution_count": 3,
   "id": "d056ef48",
   "metadata": {},
   "outputs": [],
   "source": [
    "# calculate a probability for simulated annealing\n",
    "def getProbability(start_time, time_limit, new_total_distance, total_distance, initial_distance):\n",
    "    if (new_total_distance<total_distance):\n",
    "        return 1.0\n",
    "    start_temp = initial_distance*0.025;\n",
    "    end_temp = initial_distance*0.0075;\n",
    "    temp = start_temp + (end_temp - start_temp) * (time.time()/(start_time+time_limit))\n",
    "    probability = math.exp((total_distance-new_total_distance)/temp)\n",
    "    return probability"
   ]
  },
  {
   "cell_type": "code",
   "execution_count": 4,
   "id": "c5b63146",
   "metadata": {},
   "outputs": [],
   "source": [
    "# calculate a distance between the two points\n",
    "def distance(city1, city2):\n",
    "    return math.sqrt((city1[0] - city2[0]) ** 2 + (city1[1] - city2[1]) ** 2)"
   ]
  },
  {
   "cell_type": "code",
   "execution_count": 5,
   "id": "8df6df9e",
   "metadata": {},
   "outputs": [],
   "source": [
    "# swap two points inside the route\n",
    "def swapRoute(cities, tour, total_distance, first, second):\n",
    "    \n",
    "    new_tour = tour[:]\n",
    "    new_total_distance = total_distance\n",
    "    \n",
    "    subtract1 = distance (cities[new_tour[first]], cities[new_tour[first+1]])\n",
    "    subtract2 = distance (cities[new_tour[second]], cities[new_tour[second+1]])\n",
    "    subtract3 = distance (cities[new_tour[first]], cities[new_tour[first-1]])\n",
    "    subtract4 = distance (cities[new_tour[second]], cities[new_tour[second-1]])\n",
    "    \n",
    "    temp = new_tour[first]\n",
    "    new_tour[first] = new_tour[second]\n",
    "    new_tour[second] = temp\n",
    "    \n",
    "    add1 = distance (cities[new_tour[first]], cities[new_tour[first+1]])\n",
    "    add2 = distance (cities[new_tour[second]], cities[new_tour[second+1]])\n",
    "    add3 = distance (cities[new_tour[first]], cities[new_tour[first-1]])\n",
    "    add4 = distance (cities[new_tour[second]], cities[new_tour[second-1]])\n",
    "    \n",
    "    new_total_distance -= (subtract1 + subtract2 + subtract3 + subtract4)\n",
    "    new_total_distance += (add1 + add2 + add3 + add4)\n",
    "    \n",
    "    return new_tour, new_total_distance"
   ]
  },
  {
   "cell_type": "code",
   "execution_count": 6,
   "id": "1bb0ee4e",
   "metadata": {},
   "outputs": [],
   "source": [
    "# checking whether x or y coordinates of two lines (created by p1&p2 and p3&p4) has an intersection\n",
    "def max_min_cross(p1, p2, p3, p4):\n",
    "    min_ab = min(p1, p2)\n",
    "    max_ab = max(p1, p2)\n",
    "    min_cd = min(p3, p4)\n",
    "    max_cd = max(p3, p4)\n",
    "\n",
    "    if min_ab > max_cd or max_ab < min_cd:\n",
    "        return False\n",
    "\n",
    "    return True\n",
    "\n",
    "\n",
    "# checking whether two lines (created by p1&p2 and p3&p4 has an intersection)\n",
    "def judgeCross(i, j, cities, tour):\n",
    "    first = cities[tour[i]]\n",
    "    second = cities[tour[j]]\n",
    "    first_next = cities[tour[i+1]]\n",
    "    second_next = cities[tour[j+1]]\n",
    "    # x座標による判定\n",
    "    if not max_min_cross(first[0], first_next[0], second[0], second_next[0]):\n",
    "        return False\n",
    "\n",
    "    # y座標による判定\n",
    "    if not max_min_cross(first[1], first_next[1], second[1], second_next[1]):\n",
    "        return False\n",
    "\n",
    "    tc1 = (first[0] - first_next[0]) * (second[1] - first[1]) + (first[1] - first_next[1]) * (first[0] - second[0])\n",
    "    tc2 = (first[0] - first_next[0]) * (second_next[1] - first[1]) + (first[1] - first_next[1]) * (first[0] - second_next[0])\n",
    "    td1 = (second[0] - second_next[0]) * (first[1] - second[1]) + (second[1] - second_next[1]) * (second[0] - first[0])\n",
    "    td2 = (second[0] - second_next[0]) * (first_next[1] - second[1]) + (second[1] - second_next[1]) * (second[0] - first_next[0])\n",
    "    return tc1 * tc2 <= 0 and td1 * td2 <= 0"
   ]
  },
  {
   "cell_type": "code",
   "execution_count": 7,
   "id": "1724c04c",
   "metadata": {},
   "outputs": [],
   "source": [
    "# when the two lines intersect each other, reorganize the points so that there is no intersections\n",
    "def noCross(cities, tour, total_distance):\n",
    "    continue_flag = True\n",
    "    while continue_flag:\n",
    "        continue_flag = False\n",
    "        N = len(cities)\n",
    "        for i in range (1, N-2):\n",
    "            for j in range(i+2, N-1):\n",
    "                if judgeCross(i, j, cities, tour):\n",
    "                    #from IPython.core.debugger import Pdb; Pdb().set_trace()\n",
    "                    tour, total_distance = fixChain(cities, tour, total_distance, i, j)\n",
    "                    continue_flag = True\n",
    "    \n",
    "    return tour, total_distance"
   ]
  },
  {
   "cell_type": "code",
   "execution_count": 8,
   "id": "8237f702",
   "metadata": {},
   "outputs": [],
   "source": [
    "# changing the order of the tour and re-calculate the distance of the given two points\n",
    "def fixChain(cities, tour, total_distance, start, end):\n",
    "    new_tour = tour[:]\n",
    "    new_total_distance = 0\n",
    "    for i in range (end-start):\n",
    "        #from IPython.core.debugger import Pdb; Pdb().set_trace()\n",
    "        new_tour[start+i+1]=tour[end-i]\n",
    "        \n",
    "    N = len(cities)\n",
    "    \n",
    "    for i in range (N-1):\n",
    "        new_total_distance += distance(cities[new_tour[i]], cities[new_tour[i+1]])\n",
    "        \n",
    "    return new_tour, new_total_distance"
   ]
  },
  {
   "cell_type": "code",
   "execution_count": 9,
   "id": "ce07bfb8",
   "metadata": {},
   "outputs": [],
   "source": [
    "# simulated annealing\n",
    "def annealing(cities, tour, total_distance, initial_distance, start_time, time_limit):\n",
    "    first = random.randrange(len(tour))\n",
    "    second = random.randrange(len(tour))\n",
    "    \n",
    "    if first==0 or second ==0:\n",
    "        return tour, total_distance\n",
    "    if first==len(tour)-1 or second==len(tour)-1:\n",
    "        return tour, total_distance\n",
    "    if first==second:\n",
    "        return tour, total_distance\n",
    "    \n",
    "    new_tour, new_total_distance = swapRoute(cities, tour, total_distance, first, second)\n",
    "    \n",
    "    rand = random.random()\n",
    "    probability = getProbability(start_time, time_limit, new_total_distance, total_distance, initial_distance)\n",
    "    \n",
    "    #from IPython.core.debugger import Pdb; Pdb().set_trace()\n",
    "    #print(str(probability)+\" , \"+str(rand)+\" , \"+str(new_total_distance)+\" , \"+str(total_distance))\n",
    "    \n",
    "#     Annealing1\n",
    "#     if probability>rand:\n",
    "\n",
    "#   Annealing2\n",
    "    if new_total_distance < total_distance:\n",
    "        tour = new_tour\n",
    "        total_distance = new_total_distance\n",
    "    \n",
    "    return tour, total_distance"
   ]
  },
  {
   "cell_type": "code",
   "execution_count": 10,
   "id": "a77054c2",
   "metadata": {},
   "outputs": [],
   "source": [
    "# creating an initial answer based on greedy technique\n",
    "def greedy(cities):\n",
    "    N = len(cities)\n",
    "\n",
    "    dist = [[0] * N for i in range(N)]\n",
    "    for i in range(N):\n",
    "        for j in range(i, N):\n",
    "            dist[i][j] = dist[j][i] = distance(cities[i], cities[j])\n",
    "\n",
    "    current_city = 0\n",
    "    unvisited_cities = set(range(1, N))\n",
    "    tour = [current_city]\n",
    "    total_distance = 0\n",
    "\n",
    "    while unvisited_cities:\n",
    "        next_city = min(unvisited_cities,\n",
    "                        key=lambda city: dist[current_city][city])\n",
    "        total_distance += dist[current_city][next_city]\n",
    "        unvisited_cities.remove(next_city)\n",
    "        tour.append(next_city)\n",
    "        current_city = next_city\n",
    "        \n",
    "        \n",
    "    total_distance += dist[current_city][tour[0]]\n",
    "    tour.append(tour[0])\n",
    "    return tour, total_distance"
   ]
  },
  {
   "cell_type": "code",
   "execution_count": 11,
   "id": "74de7560",
   "metadata": {},
   "outputs": [],
   "source": [
    "# method for creating an initial answer and calling functions to improve it\n",
    "def solve(cities):\n",
    "    tour, total_distance = greedy(cities)\n",
    "    tour, total_distance = noCross(cities, tour, total_distance)\n",
    "    start_time = time.time()\n",
    "    time_limit = 100\n",
    "    initial_distance = total_distance\n",
    "    while (time.time()-start_time<time_limit):\n",
    "        tour, total_distance = annealing(cities, tour, total_distance, initial_distance, start_time, time_limit)\n",
    "    return tour"
   ]
  },
  {
   "cell_type": "code",
   "execution_count": 12,
   "id": "66c363df",
   "metadata": {},
   "outputs": [],
   "source": [
    "# reading input from csv file\n",
    "def readInput(count):\n",
    "    with open(\"input_\"+str(count)+\".csv\", encoding='utf-8') as csvfile:\n",
    "        cities = []\n",
    "        csvreader = csv.reader(csvfile)\n",
    "        next(csvreader)  # Skip the header row\n",
    "        for row in csvreader:\n",
    "            x, y = float(row[0]), float(row[1])\n",
    "            cities.append([x, y])\n",
    "    \n",
    "    return cities"
   ]
  },
  {
   "cell_type": "code",
   "execution_count": 13,
   "id": "c47abe67",
   "metadata": {},
   "outputs": [],
   "source": [
    "# writing the answer as a csv file\n",
    "def writeOutput(tour, count):\n",
    "    \n",
    "    tour = tour[:-1]\n",
    "    \n",
    "    with open('output_'+str(count)+\".csv\", 'w', newline='') as csvfile:\n",
    "        csvwriter = csv.writer(csvfile)\n",
    "        # Write the header\n",
    "        csvwriter.writerow(['index'])\n",
    "        # Write the tour indices\n",
    "        for location in tour:\n",
    "            csvwriter.writerow([location])"
   ]
  },
  {
   "cell_type": "code",
   "execution_count": 14,
   "id": "f10f924b",
   "metadata": {},
   "outputs": [
    {
     "name": "stdout",
     "output_type": "stream",
     "text": [
      "Finished 6th data!\n"
     ]
    }
   ],
   "source": [
    "if __name__ == '__main__':\n",
    "#     for i in range (7):\n",
    "#         cities = readInput(i)\n",
    "#         tour = solve(cities)\n",
    "#         writeOutput(tour, i)\n",
    "#         print(\"Finished \"+str(i)+\"th data!\")\n",
    "\n",
    "# When testing for one particular test case\n",
    "    i = 6\n",
    "    cities = readInput(i)\n",
    "    tour = solve(cities)\n",
    "    writeOutput(tour, i)\n",
    "    print(\"Finished \"+str(i)+\"th data!\")"
   ]
  }
 ],
 "metadata": {
  "kernelspec": {
   "display_name": "Python 3 (ipykernel)",
   "language": "python",
   "name": "python3"
  },
  "language_info": {
   "codemirror_mode": {
    "name": "ipython",
    "version": 3
   },
   "file_extension": ".py",
   "mimetype": "text/x-python",
   "name": "python",
   "nbconvert_exporter": "python",
   "pygments_lexer": "ipython3",
   "version": "3.11.4"
  }
 },
 "nbformat": 4,
 "nbformat_minor": 5
}
